{
 "cells": [
  {
   "cell_type": "code",
   "execution_count": 4,
   "id": "dad86f9f",
   "metadata": {},
   "outputs": [],
   "source": [
    "from autogen_agentchat.agents import AssistantAgent\n",
    "from autogen_ext.models.openai import OpenAIChatCompletionClient\n",
    "from dotenv import load_dotenv\n",
    "import os\n",
    "\n",
    "load_dotenv()\n",
    "api_key = os.getenv('OPENAI_API_KEY')"
   ]
  },
  {
   "cell_type": "code",
   "execution_count": 6,
   "id": "14aab810",
   "metadata": {},
   "outputs": [],
   "source": [
    "model_client = OpenAIChatCompletionClient(model = 'gpt-4o',api_key=api_key)"
   ]
  },
  {
   "cell_type": "code",
   "execution_count": 7,
   "id": "699feb54",
   "metadata": {},
   "outputs": [],
   "source": [
    "assistant = AssistantAgent(name = \"assistant\",model_client=model_client,description='A Basic first Agent')"
   ]
  },
  {
   "cell_type": "code",
   "execution_count": 8,
   "id": "2520c89e",
   "metadata": {},
   "outputs": [
    {
     "name": "stdout",
     "output_type": "stream",
     "text": [
      "messages=[TextMessage(id='3e1464bb-9ff9-4cf7-a88d-6c70c77245cb', source='user', models_usage=None, metadata={}, created_at=datetime.datetime(2025, 7, 26, 6, 41, 34, 736867, tzinfo=datetime.timezone.utc), content=\"What's the capital of USA & write some more about the same ?\", type='TextMessage'), TextMessage(id='497ac05e-4cb2-4339-a192-d83aa0989307', source='assistant', models_usage=RequestUsage(prompt_tokens=49, completion_tokens=489), metadata={}, created_at=datetime.datetime(2025, 7, 26, 6, 41, 50, 383558, tzinfo=datetime.timezone.utc), content='The capital of the United States is Washington, D.C. Washington, D.C., formally known as the District of Columbia, is not part of any U.S. state and serves as the political hub of the country. Here is some more information about Washington, D.C.:\\n\\n1. **Historical Background**: The city was founded in 1790 and named after George Washington, the first president of the United States. The \"D.C.\" stands for the District of Columbia, which was chosen to serve as the nation\\'s capital to avoid favoritism toward any particular state.\\n\\n2. **Geographic Location**: Washington, D.C., is located on the east coast of the United States, bordered by the states of Maryland to the north and Virginia to the south. It is situated along the Potomac River.\\n\\n3. **Governmental Significance**: As the capital of the United States, Washington, D.C., houses all three branches of the federal government—executive, legislative, and judicial. This includes the White House, home and workplace of the President; the U.S. Capitol, where Congress meets; and the Supreme Court.\\n\\n4. **Monuments and Landmarks**: The city is known for its historic landmarks and museums, including the Lincoln Memorial, Washington Monument, Jefferson Memorial, and the Smithsonian Institution museums. The National Mall, a large park in downtown D.C., hosts many of these iconic monuments and is a popular site for tourists and national events.\\n\\n5. **Cultural Diversity**: Washington, D.C., is a culturally diverse city with a vibrant arts scene, numerous international communities, and annual cultural events. It is also home to a significant number of embassies and international organizations.\\n\\n6. **Population and Economy**: The population of Washington, D.C., is diverse and around 700,000 people as of recent estimates, though the daytime population can swell with commuters. The city\\'s economy is largely driven by the federal government, but it also has robust sectors in education, public policy, and tourism.\\n\\n7. **Education and Research**: D.C. is home to numerous higher education institutions, such as Georgetown University, George Washington University, and American University. It is a center for research, political science, and international relations.\\n\\nWith its rich history, political significance, and cultural offerings, Washington, D.C., plays a crucial role on both a national and global stage. \\n\\nTERMINATE', type='TextMessage')] stop_reason=None\n"
     ]
    }
   ],
   "source": [
    "result = await assistant.run(task=\"What's the capital of USA & write some more about the same ?\")\n",
    "\n",
    "print(result)"
   ]
  },
  {
   "cell_type": "code",
   "execution_count": 9,
   "id": "6fc5398d",
   "metadata": {},
   "outputs": [
    {
     "name": "stdout",
     "output_type": "stream",
     "text": [
      "[TextMessage(id='3e1464bb-9ff9-4cf7-a88d-6c70c77245cb', source='user', models_usage=None, metadata={}, created_at=datetime.datetime(2025, 7, 26, 6, 41, 34, 736867, tzinfo=datetime.timezone.utc), content=\"What's the capital of USA & write some more about the same ?\", type='TextMessage'), TextMessage(id='497ac05e-4cb2-4339-a192-d83aa0989307', source='assistant', models_usage=RequestUsage(prompt_tokens=49, completion_tokens=489), metadata={}, created_at=datetime.datetime(2025, 7, 26, 6, 41, 50, 383558, tzinfo=datetime.timezone.utc), content='The capital of the United States is Washington, D.C. Washington, D.C., formally known as the District of Columbia, is not part of any U.S. state and serves as the political hub of the country. Here is some more information about Washington, D.C.:\\n\\n1. **Historical Background**: The city was founded in 1790 and named after George Washington, the first president of the United States. The \"D.C.\" stands for the District of Columbia, which was chosen to serve as the nation\\'s capital to avoid favoritism toward any particular state.\\n\\n2. **Geographic Location**: Washington, D.C., is located on the east coast of the United States, bordered by the states of Maryland to the north and Virginia to the south. It is situated along the Potomac River.\\n\\n3. **Governmental Significance**: As the capital of the United States, Washington, D.C., houses all three branches of the federal government—executive, legislative, and judicial. This includes the White House, home and workplace of the President; the U.S. Capitol, where Congress meets; and the Supreme Court.\\n\\n4. **Monuments and Landmarks**: The city is known for its historic landmarks and museums, including the Lincoln Memorial, Washington Monument, Jefferson Memorial, and the Smithsonian Institution museums. The National Mall, a large park in downtown D.C., hosts many of these iconic monuments and is a popular site for tourists and national events.\\n\\n5. **Cultural Diversity**: Washington, D.C., is a culturally diverse city with a vibrant arts scene, numerous international communities, and annual cultural events. It is also home to a significant number of embassies and international organizations.\\n\\n6. **Population and Economy**: The population of Washington, D.C., is diverse and around 700,000 people as of recent estimates, though the daytime population can swell with commuters. The city\\'s economy is largely driven by the federal government, but it also has robust sectors in education, public policy, and tourism.\\n\\n7. **Education and Research**: D.C. is home to numerous higher education institutions, such as Georgetown University, George Washington University, and American University. It is a center for research, political science, and international relations.\\n\\nWith its rich history, political significance, and cultural offerings, Washington, D.C., plays a crucial role on both a national and global stage. \\n\\nTERMINATE', type='TextMessage')]\n"
     ]
    }
   ],
   "source": [
    "print(result.messages)"
   ]
  },
  {
   "cell_type": "code",
   "execution_count": 10,
   "id": "2fe03249",
   "metadata": {},
   "outputs": [
    {
     "name": "stdout",
     "output_type": "stream",
     "text": [
      "The capital of the United States is Washington, D.C. Washington, D.C., formally known as the District of Columbia, is not part of any U.S. state and serves as the political hub of the country. Here is some more information about Washington, D.C.:\n",
      "\n",
      "1. **Historical Background**: The city was founded in 1790 and named after George Washington, the first president of the United States. The \"D.C.\" stands for the District of Columbia, which was chosen to serve as the nation's capital to avoid favoritism toward any particular state.\n",
      "\n",
      "2. **Geographic Location**: Washington, D.C., is located on the east coast of the United States, bordered by the states of Maryland to the north and Virginia to the south. It is situated along the Potomac River.\n",
      "\n",
      "3. **Governmental Significance**: As the capital of the United States, Washington, D.C., houses all three branches of the federal government—executive, legislative, and judicial. This includes the White House, home and workplace of the President; the U.S. Capitol, where Congress meets; and the Supreme Court.\n",
      "\n",
      "4. **Monuments and Landmarks**: The city is known for its historic landmarks and museums, including the Lincoln Memorial, Washington Monument, Jefferson Memorial, and the Smithsonian Institution museums. The National Mall, a large park in downtown D.C., hosts many of these iconic monuments and is a popular site for tourists and national events.\n",
      "\n",
      "5. **Cultural Diversity**: Washington, D.C., is a culturally diverse city with a vibrant arts scene, numerous international communities, and annual cultural events. It is also home to a significant number of embassies and international organizations.\n",
      "\n",
      "6. **Population and Economy**: The population of Washington, D.C., is diverse and around 700,000 people as of recent estimates, though the daytime population can swell with commuters. The city's economy is largely driven by the federal government, but it also has robust sectors in education, public policy, and tourism.\n",
      "\n",
      "7. **Education and Research**: D.C. is home to numerous higher education institutions, such as Georgetown University, George Washington University, and American University. It is a center for research, political science, and international relations.\n",
      "\n",
      "With its rich history, political significance, and cultural offerings, Washington, D.C., plays a crucial role on both a national and global stage. \n",
      "\n",
      "TERMINATE\n"
     ]
    }
   ],
   "source": [
    "print(result.messages[-1].content)"
   ]
  },
  {
   "cell_type": "code",
   "execution_count": 11,
   "id": "b882ed89",
   "metadata": {},
   "outputs": [
    {
     "name": "stdout",
     "output_type": "stream",
     "text": [
      "messages=[TextMessage(id='90e7d9d5-84fa-455d-b688-8c1768220ab9', source='user', models_usage=None, metadata={}, created_at=datetime.datetime(2025, 7, 26, 6, 42, 2, 354031, tzinfo=datetime.timezone.utc), content=\"What's the capital of USA & write some more about the same ?\", type='TextMessage'), TextMessage(id='e089ecf8-e68f-4358-a177-dd424240aa8f', source='assistant', models_usage=RequestUsage(prompt_tokens=560, completion_tokens=454), metadata={}, created_at=datetime.datetime(2025, 7, 26, 6, 42, 8, 473653, tzinfo=datetime.timezone.utc), content=\"The capital of the United States is Washington, D.C. Here is some more information about Washington, D.C.:\\n\\n1. **Historical Background**: Washington, D.C. was established as the nation's capital in 1790 and named after George Washington. It was created to serve as a neutral ground that was not part of any state, ensuring that no single state held more power by hosting the capital.\\n\\n2. **Location**: The city is located on the east coast of the United States, along the Potomac River. It is bordered by the states of Maryland to the north and northeast, and Virginia to the south and west.\\n\\n3. **Governmental Center**: Washington, D.C. is the seat of all three branches of the U.S. federal government: the Executive (headed by the President), the Legislative (Congress), and the Judicial (Supreme Court). Notable buildings include the White House, the U.S. Capitol, and the Supreme Court building.\\n\\n4. **Monuments and Museums**: The city is known for its numerous national monuments and museums, many of which are located on or near the National Mall. Key attractions include the Lincoln Memorial, the Washington Monument, the Jefferson Memorial, and the various Smithsonian Institution museums.\\n\\n5. **Demographics and Culture**: Washington, D.C., is known for its cultural diversity and vibrant communities. It has a population of around 700,000, but this can grow significantly during the workweek due to commuters. The city has a lively arts scene, numerous cultural festivals, and a range of international restaurants.\\n\\n6. **Economic Importance**: While the federal government is the largest employer in D.C., the city also boasts a diverse economy encompassing sectors like education, public policy, tourism, and finance. It has become a prime destination for conventions and international diplomacy.\\n\\n7. **Educational Institutions**: Washington, D.C. is home to several significant universities and colleges, such as Georgetown University, George Washington University, and American University. These institutions contribute to the city's reputation as a center for research and education.\\n\\nWashington, D.C., with its rich history, political significance, and cultural vibrancy, continues to play a crucial role in both national and international affairs. \\n\\nTERMINATE\", type='TextMessage')] stop_reason=None\n"
     ]
    }
   ],
   "source": [
    "result = await assistant.run(task=\"What's the capital of USA & write some more about the same ?\")\n",
    "\n",
    "print(result)\n"
   ]
  },
  {
   "cell_type": "code",
   "execution_count": 12,
   "id": "9b743125",
   "metadata": {},
   "outputs": [
    {
     "name": "stdout",
     "output_type": "stream",
     "text": [
      "The capital of the United States is Washington, D.C. Here is some more information about Washington, D.C.:\n",
      "\n",
      "1. **Historical Background**: Washington, D.C. was established as the nation's capital in 1790 and named after George Washington. It was created to serve as a neutral ground that was not part of any state, ensuring that no single state held more power by hosting the capital.\n",
      "\n",
      "2. **Location**: The city is located on the east coast of the United States, along the Potomac River. It is bordered by the states of Maryland to the north and northeast, and Virginia to the south and west.\n",
      "\n",
      "3. **Governmental Center**: Washington, D.C. is the seat of all three branches of the U.S. federal government: the Executive (headed by the President), the Legislative (Congress), and the Judicial (Supreme Court). Notable buildings include the White House, the U.S. Capitol, and the Supreme Court building.\n",
      "\n",
      "4. **Monuments and Museums**: The city is known for its numerous national monuments and museums, many of which are located on or near the National Mall. Key attractions include the Lincoln Memorial, the Washington Monument, the Jefferson Memorial, and the various Smithsonian Institution museums.\n",
      "\n",
      "5. **Demographics and Culture**: Washington, D.C., is known for its cultural diversity and vibrant communities. It has a population of around 700,000, but this can grow significantly during the workweek due to commuters. The city has a lively arts scene, numerous cultural festivals, and a range of international restaurants.\n",
      "\n",
      "6. **Economic Importance**: While the federal government is the largest employer in D.C., the city also boasts a diverse economy encompassing sectors like education, public policy, tourism, and finance. It has become a prime destination for conventions and international diplomacy.\n",
      "\n",
      "7. **Educational Institutions**: Washington, D.C. is home to several significant universities and colleges, such as Georgetown University, George Washington University, and American University. These institutions contribute to the city's reputation as a center for research and education.\n",
      "\n",
      "Washington, D.C., with its rich history, political significance, and cultural vibrancy, continues to play a crucial role in both national and international affairs. \n",
      "\n",
      "TERMINATE\n"
     ]
    }
   ],
   "source": [
    "print(result.messages[-1].content)"
   ]
  },
  {
   "cell_type": "code",
   "execution_count": null,
   "id": "74a535ad",
   "metadata": {},
   "outputs": [],
   "source": []
  }
 ],
 "metadata": {
  "kernelspec": {
   "display_name": "learn-autogen",
   "language": "python",
   "name": "python3"
  },
  "language_info": {
   "codemirror_mode": {
    "name": "ipython",
    "version": 3
   },
   "file_extension": ".py",
   "mimetype": "text/x-python",
   "name": "python",
   "nbconvert_exporter": "python",
   "pygments_lexer": "ipython3",
   "version": "3.13.1"
  }
 },
 "nbformat": 4,
 "nbformat_minor": 5
}
