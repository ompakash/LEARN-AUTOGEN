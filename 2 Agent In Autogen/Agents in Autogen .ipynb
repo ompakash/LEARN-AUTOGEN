{
 "cells": [
  {
   "cell_type": "code",
   "execution_count": 1,
   "id": "b503f27f",
   "metadata": {},
   "outputs": [],
   "source": [
    "from autogen_agentchat.agents import AssistantAgent\n",
    "from autogen_ext.models.openai import OpenAIChatCompletionClient\n",
    "from autogen_agentchat.messages import TextMessage\n",
    "from dotenv import load_dotenv\n",
    "import os\n",
    "\n",
    "load_dotenv()\n",
    "api_key = os.getenv('OPENAI_API_KEY')\n",
    "model_client = OpenAIChatCompletionClient(model='gpt-4o', api_key=api_key)"
   ]
  },
  {
   "cell_type": "code",
   "execution_count": 2,
   "id": "cba13047",
   "metadata": {},
   "outputs": [],
   "source": [
    "async def web_search(query: str) -> str:\n",
    "    \"\"\"Find information on the web\"\"\"\n",
    "    return \"The Labrador Retriever or simply Labrador is a British breed of retriever gun dog. \"\n"
   ]
  },
  {
   "cell_type": "code",
   "execution_count": 3,
   "id": "95789df4",
   "metadata": {},
   "outputs": [],
   "source": [
    "agent = AssistantAgent(\n",
    "    name='assistant',\n",
    "    model_client=model_client,\n",
    "    tools=[web_search],\n",
    "    system_message='Use Tools to solve tasks',\n",
    "    description='An agent which uses tool to help solve task'\n",
    ")"
   ]
  },
  {
   "cell_type": "code",
   "execution_count": 4,
   "id": "a89305b6",
   "metadata": {},
   "outputs": [
    {
     "name": "stdout",
     "output_type": "stream",
     "text": [
      "The Labrador Retriever or simply Labrador is a British breed of retriever gun dog. \n"
     ]
    }
   ],
   "source": [
    "result = await agent.run(task='Find information about Labrador Retriever')\n",
    "print(result.messages[-1].content)\n"
   ]
  },
  {
   "cell_type": "code",
   "execution_count": 5,
   "id": "de8a6057",
   "metadata": {},
   "outputs": [
    {
     "data": {
      "text/plain": [
       "TaskResult(messages=[TextMessage(id='a7dcdcb7-0197-426a-98b5-b55f6208144f', source='user', models_usage=None, metadata={}, created_at=datetime.datetime(2025, 7, 26, 10, 33, 5, 523582, tzinfo=datetime.timezone.utc), content='Find information about Labrador Retriever', type='TextMessage'), ToolCallRequestEvent(id='3f39fe28-31e0-4842-aa96-4a5ba162d7f5', source='assistant', models_usage=RequestUsage(prompt_tokens=61, completion_tokens=17), metadata={}, created_at=datetime.datetime(2025, 7, 26, 10, 33, 8, 263222, tzinfo=datetime.timezone.utc), content=[FunctionCall(id='call_x9rCxIGXQG6W3kQWfFwhyoPC', arguments='{\"query\":\"Labrador Retriever\"}', name='web_search')], type='ToolCallRequestEvent'), ToolCallExecutionEvent(id='51f98707-e7df-431c-b1b0-5957bd7d756b', source='assistant', models_usage=None, metadata={}, created_at=datetime.datetime(2025, 7, 26, 10, 33, 8, 265070, tzinfo=datetime.timezone.utc), content=[FunctionExecutionResult(content='The Labrador Retriever or simply Labrador is a British breed of retriever gun dog. ', name='web_search', call_id='call_x9rCxIGXQG6W3kQWfFwhyoPC', is_error=False)], type='ToolCallExecutionEvent'), ToolCallSummaryMessage(id='e5faf1e6-c4c9-4081-9a03-bec83ee7b4e1', source='assistant', models_usage=None, metadata={}, created_at=datetime.datetime(2025, 7, 26, 10, 33, 8, 265438, tzinfo=datetime.timezone.utc), content='The Labrador Retriever or simply Labrador is a British breed of retriever gun dog. ', type='ToolCallSummaryMessage', tool_calls=[FunctionCall(id='call_x9rCxIGXQG6W3kQWfFwhyoPC', arguments='{\"query\":\"Labrador Retriever\"}', name='web_search')], results=[FunctionExecutionResult(content='The Labrador Retriever or simply Labrador is a British breed of retriever gun dog. ', name='web_search', call_id='call_x9rCxIGXQG6W3kQWfFwhyoPC', is_error=False)])], stop_reason=None)"
      ]
     },
     "execution_count": 5,
     "metadata": {},
     "output_type": "execute_result"
    }
   ],
   "source": [
    "result\n"
   ]
  },
  {
   "cell_type": "code",
   "execution_count": 6,
   "id": "6aadc842",
   "metadata": {},
   "outputs": [
    {
     "name": "stdout",
     "output_type": "stream",
     "text": [
      "[ToolCallRequestEvent(id='dd03e693-b623-4ecc-8e83-2b55d97087c6', source='assistant', models_usage=RequestUsage(prompt_tokens=114, completion_tokens=18), metadata={}, created_at=datetime.datetime(2025, 7, 26, 10, 33, 9, 291841, tzinfo=datetime.timezone.utc), content=[FunctionCall(id='call_RHEDGP6WZbbvmJCpSyPhvmBM', arguments='{\"query\":\"Labrador Retriever information\"}', name='web_search')], type='ToolCallRequestEvent'), ToolCallExecutionEvent(id='663eefc1-b11b-4d07-926c-be2339db93f3', source='assistant', models_usage=None, metadata={}, created_at=datetime.datetime(2025, 7, 26, 10, 33, 9, 292790, tzinfo=datetime.timezone.utc), content=[FunctionExecutionResult(content='The Labrador Retriever or simply Labrador is a British breed of retriever gun dog. ', name='web_search', call_id='call_RHEDGP6WZbbvmJCpSyPhvmBM', is_error=False)], type='ToolCallExecutionEvent')]\n",
      "\n",
      "\n",
      "\n",
      "\n",
      "\n",
      "id='5aeb0dc4-7595-4152-ae18-6dcaf90c018e' source='assistant' models_usage=None metadata={} created_at=datetime.datetime(2025, 7, 26, 10, 33, 9, 292837, tzinfo=datetime.timezone.utc) content='The Labrador Retriever or simply Labrador is a British breed of retriever gun dog. ' type='ToolCallSummaryMessage' tool_calls=[FunctionCall(id='call_RHEDGP6WZbbvmJCpSyPhvmBM', arguments='{\"query\":\"Labrador Retriever information\"}', name='web_search')] results=[FunctionExecutionResult(content='The Labrador Retriever or simply Labrador is a British breed of retriever gun dog. ', name='web_search', call_id='call_RHEDGP6WZbbvmJCpSyPhvmBM', is_error=False)]\n"
     ]
    }
   ],
   "source": [
    "from autogen_core import CancellationToken\n",
    "\n",
    "async def assistant_run()-> None:\n",
    "    response = await agent.on_messages(\n",
    "        messages= [TextMessage(content='Find information about Labrador Retriever',source='User')],\n",
    "        cancellation_token=CancellationToken()\n",
    "    )\n",
    "\n",
    "    print(response.inner_messages)\n",
    "    print('\\n\\n\\n\\n')\n",
    "    print(response.chat_message)\n",
    "\n",
    "await assistant_run()"
   ]
  },
  {
   "cell_type": "code",
   "execution_count": 7,
   "id": "d7c86404",
   "metadata": {},
   "outputs": [
    {
     "name": "stdout",
     "output_type": "stream",
     "text": [
      "[ToolCallRequestEvent(id='c9b8650b-47c7-457d-b992-14c6079d697f', source='assistant', models_usage=RequestUsage(prompt_tokens=171, completion_tokens=19), metadata={}, created_at=datetime.datetime(2025, 7, 26, 10, 33, 10, 570769, tzinfo=datetime.timezone.utc), content=[FunctionCall(id='call_uRE6Zq6nOhGeQWo56kx0XiUb', arguments='{\"query\":\"Labrador Retriever breed information\"}', name='web_search')], type='ToolCallRequestEvent'), ToolCallExecutionEvent(id='f906e123-9690-4912-ba49-b8991cb6e656', source='assistant', models_usage=None, metadata={}, created_at=datetime.datetime(2025, 7, 26, 10, 33, 10, 572568, tzinfo=datetime.timezone.utc), content=[FunctionExecutionResult(content='The Labrador Retriever or simply Labrador is a British breed of retriever gun dog. ', name='web_search', call_id='call_uRE6Zq6nOhGeQWo56kx0XiUb', is_error=False)], type='ToolCallExecutionEvent')]\n",
      "\n",
      "\n",
      "\n",
      "\n",
      "\n",
      "id='07508674-a1b9-46fa-85ff-c90d4f9f2267' source='assistant' models_usage=None metadata={} created_at=datetime.datetime(2025, 7, 26, 10, 33, 10, 572650, tzinfo=datetime.timezone.utc) content='The Labrador Retriever or simply Labrador is a British breed of retriever gun dog. ' type='ToolCallSummaryMessage' tool_calls=[FunctionCall(id='call_uRE6Zq6nOhGeQWo56kx0XiUb', arguments='{\"query\":\"Labrador Retriever breed information\"}', name='web_search')] results=[FunctionExecutionResult(content='The Labrador Retriever or simply Labrador is a British breed of retriever gun dog. ', name='web_search', call_id='call_uRE6Zq6nOhGeQWo56kx0XiUb', is_error=False)]\n"
     ]
    }
   ],
   "source": [
    "from autogen_core import CancellationToken\n",
    "\n",
    "async def assistant_run()-> None:\n",
    "    response = await agent.on_messages(\n",
    "        messages= [TextMessage(content='Find information about Labrador Retriever via the tool',source='User')],\n",
    "        cancellation_token=CancellationToken()\n",
    "    )\n",
    "\n",
    "    print(response.inner_messages)\n",
    "    print('\\n\\n\\n\\n')\n",
    "    print(response.chat_message)\n",
    "\n",
    "await assistant_run()\n"
   ]
  },
  {
   "cell_type": "code",
   "execution_count": 8,
   "id": "788a16eb",
   "metadata": {},
   "outputs": [
    {
     "name": "stdout",
     "output_type": "stream",
     "text": [
      "---------- ToolCallRequestEvent (assistant) ----------\n",
      "[FunctionCall(id='call_fJ4ji1eQJqZpMlVatx4VB7kj', arguments='{\"query\":\"Labrador Retriever details\"}', name='web_search')]\n",
      "[Prompt tokens: 229, Completion tokens: 18]\n",
      "---------- ToolCallExecutionEvent (assistant) ----------\n",
      "[FunctionExecutionResult(content='The Labrador Retriever or simply Labrador is a British breed of retriever gun dog. ', name='web_search', call_id='call_fJ4ji1eQJqZpMlVatx4VB7kj', is_error=False)]\n",
      "---------- assistant ----------\n",
      "The Labrador Retriever or simply Labrador is a British breed of retriever gun dog. \n",
      "---------- Summary ----------\n",
      "Number of inner messages: 2\n",
      "Total prompt tokens: 229\n",
      "Total completion tokens: 18\n",
      "Duration: 0.98 seconds\n"
     ]
    }
   ],
   "source": [
    "from autogen_agentchat.ui import Console\n",
    "\n",
    "\n",
    "async def assistant_run_stream() -> None:\n",
    "\n",
    "    await Console(\n",
    "        agent.on_messages_stream(\n",
    "        messages= [TextMessage(content='Find information about Labrador Retriever via the tool',source='User')],\n",
    "        cancellation_token=CancellationToken()\n",
    "    ),\n",
    "    output_stats=True # Enable stats Printing\n",
    "    )\n",
    "\n",
    "\n",
    "await assistant_run_stream()"
   ]
  },
  {
   "cell_type": "code",
   "execution_count": 9,
   "id": "bdc05a60",
   "metadata": {},
   "outputs": [
    {
     "name": "stdout",
     "output_type": "stream",
     "text": [
      "---------- assistant ----------\n",
      "The last question you asked was: \"Find information about Labrador Retriever via the tool\"\n",
      "[Prompt tokens: 286, Completion tokens: 18]\n",
      "---------- Summary ----------\n",
      "Number of inner messages: 0\n",
      "Total prompt tokens: 286\n",
      "Total completion tokens: 18\n",
      "Duration: 1.08 seconds\n"
     ]
    }
   ],
   "source": [
    "from autogen_agentchat.ui import Console\n",
    "\n",
    "\n",
    "async def assistant_run_stream() -> None:\n",
    "\n",
    "    await Console(\n",
    "        agent.on_messages_stream(\n",
    "        messages= [TextMessage(content='What was the last question I asked ?',source='User')],\n",
    "        cancellation_token=CancellationToken()\n",
    "    ),\n",
    "    output_stats=True # Enable stats Printing\n",
    "    )\n",
    "\n",
    "\n",
    "await assistant_run_stream()"
   ]
  }
 ],
 "metadata": {
  "kernelspec": {
   "display_name": "learn-autogen",
   "language": "python",
   "name": "python3"
  },
  "language_info": {
   "codemirror_mode": {
    "name": "ipython",
    "version": 3
   },
   "file_extension": ".py",
   "mimetype": "text/x-python",
   "name": "python",
   "nbconvert_exporter": "python",
   "pygments_lexer": "ipython3",
   "version": "3.13.1"
  }
 },
 "nbformat": 4,
 "nbformat_minor": 5
}
